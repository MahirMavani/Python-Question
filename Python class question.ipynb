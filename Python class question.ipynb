{
 "cells": [
  {
   "cell_type": "code",
   "execution_count": 1,
   "id": "818fa3ae-6c6c-43ae-b61e-9bfc77f19787",
   "metadata": {},
   "outputs": [
    {
     "name": "stdout",
     "output_type": "stream",
     "text": [
      "50\n",
      "47\n",
      "44\n",
      "41\n",
      "38\n",
      "35\n",
      "32\n"
     ]
    }
   ],
   "source": [
    "for i in range(50,30,-3):\n",
    "    print(i)"
   ]
  },
  {
   "cell_type": "code",
   "execution_count": 2,
   "id": "181ba335-9367-4b3c-ad9c-531cf36b5b7f",
   "metadata": {},
   "outputs": [
    {
     "name": "stdin",
     "output_type": "stream",
     "text": [
      "enter the first num : 4\n",
      "enter the second num : 6\n",
      "enter the third num : 2\n"
     ]
    },
    {
     "name": "stdout",
     "output_type": "stream",
     "text": [
      "the median is : 4.0\n"
     ]
    }
   ],
   "source": [
    "n1=float(input(\"enter the first num :\"))\n",
    "n2=float(input(\"enter the second num :\"))\n",
    "n3=float(input(\"enter the third num :\"))\n",
    "if(n1>=n2 and n1<=n3) or (n1<=n2 and n1>=n3):\n",
    "    median=n1\n",
    "elif(n2>=n1 and n2<=n3) or (n2<=n1 and n2>=n3):\n",
    "    median=n2\n",
    "else:\n",
    "    median=n3\n",
    "print(\"the median is :\",median)"
   ]
  },
  {
   "cell_type": "code",
   "execution_count": 1,
   "id": "ea10c808-a940-413c-bd03-27e65cc9adb7",
   "metadata": {},
   "outputs": [
    {
     "name": "stdout",
     "output_type": "stream",
     "text": [
      "The number of digits is 7\n",
      "The number of string is 10\n"
     ]
    }
   ],
   "source": [
    "a=\"mahendran-6066681\"\n",
    "string=0\n",
    "digit=0\n",
    "for i in a:\n",
    "    if i.isnumeric():\n",
    "        digit+=1\n",
    "    else:\n",
    "        string+=1\n",
    "print(f\"The number of digits is {digit}\")\n",
    "print(f\"The number of string is {string}\")"
   ]
  },
  {
   "cell_type": "code",
   "execution_count": 2,
   "id": "b629518c-e082-4e3b-933c-9d6a0e66c3db",
   "metadata": {},
   "outputs": [
    {
     "name": "stdin",
     "output_type": "stream",
     "text": [
      "Enter No:- 5\n"
     ]
    },
    {
     "name": "stdout",
     "output_type": "stream",
     "text": [
      "120\n"
     ]
    }
   ],
   "source": [
    "fact=1\n",
    "a=int(input(\"Enter No:-\"))\n",
    "for i in range(1,a+1):\n",
    "    fact*=i\n",
    "print(fact)"
   ]
  },
  {
   "cell_type": "code",
   "execution_count": 3,
   "id": "f91b4a7b-bbd9-40d1-a1d0-3ade26996eb5",
   "metadata": {},
   "outputs": [
    {
     "name": "stdout",
     "output_type": "stream",
     "text": [
      "0\n",
      "1\n",
      "3\n",
      "5\n",
      "7\n",
      "9\n",
      "11\n",
      "13\n",
      "15\n",
      "17\n",
      "19\n",
      "21\n",
      "23\n",
      "25\n",
      "27\n",
      "29\n",
      "31\n",
      "33\n",
      "35\n",
      "37\n",
      "39\n",
      "41\n",
      "43\n",
      "45\n",
      "47\n",
      "49\n"
     ]
    }
   ],
   "source": [
    "print(0)\n",
    "for i in range(1,50,2):\n",
    "    print(i)"
   ]
  },
  {
   "cell_type": "code",
   "execution_count": 4,
   "id": "8b39aca0-e7d2-4892-bca7-c8c90edc968d",
   "metadata": {},
   "outputs": [
    {
     "name": "stdin",
     "output_type": "stream",
     "text": [
      "Enter the No.: 6\n"
     ]
    },
    {
     "name": "stdout",
     "output_type": "stream",
     "text": [
      "6 12 18 24 30 36 42 48 54 60 "
     ]
    }
   ],
   "source": [
    "a=int(input(\"Enter the No.:\"))\n",
    "for i in range(1,11):\n",
    "    b=a*i\n",
    "    print(b,end=\" \")"
   ]
  },
  {
   "cell_type": "code",
   "execution_count": 5,
   "id": "fcc9a4c9-abad-4ffc-8780-df0b2e6e360f",
   "metadata": {},
   "outputs": [
    {
     "name": "stdout",
     "output_type": "stream",
     "text": [
      "Year 1: 105000.0\n",
      "Year 2: 110250.0\n",
      "Year 3: 115762.5\n",
      "Year 4: 121550.63\n",
      "Year 5: 127628.16\n",
      "Year 6: 134009.56\n",
      "Year 7: 140710.04\n",
      "Year 8: 147745.54\n",
      "Year 9: 155132.82\n",
      "Year 10: 162889.46\n"
     ]
    }
   ],
   "source": [
    "a=100000\n",
    "b=0.05\n",
    "for i in range(1,11):\n",
    "    c=a*(1+b)**i\n",
    "    print(f\"Year {i}: {round(c,2)}\")"
   ]
  },
  {
   "cell_type": "code",
   "execution_count": 6,
   "id": "6fd16d4e-e0ca-4806-96e0-92eea7793c8c",
   "metadata": {},
   "outputs": [
    {
     "name": "stdin",
     "output_type": "stream",
     "text": [
      "Enter the Word: mahir\n"
     ]
    },
    {
     "name": "stdout",
     "output_type": "stream",
     "text": [
      "mahir is not a palindrome word\n"
     ]
    }
   ],
   "source": [
    "a=(input(\"Enter the Word:\"))\n",
    "b=\"\"\n",
    "for i in a:\n",
    "    b=i+b\n",
    "if a==b:\n",
    "    print(f\"{a} is a palindrome word\")\n",
    "else:\n",
    "    print(f\"{a} is not a palindrome word\")"
   ]
  },
  {
   "cell_type": "code",
   "execution_count": null,
   "id": "7c3baaed-2c5d-4d87-87ca-83e50ffc61c4",
   "metadata": {},
   "outputs": [],
   "source": []
  }
 ],
 "metadata": {
  "kernelspec": {
   "display_name": "Python 3 (ipykernel)",
   "language": "python",
   "name": "python3"
  },
  "language_info": {
   "codemirror_mode": {
    "name": "ipython",
    "version": 3
   },
   "file_extension": ".py",
   "mimetype": "text/x-python",
   "name": "python",
   "nbconvert_exporter": "python",
   "pygments_lexer": "ipython3",
   "version": "3.12.4"
  }
 },
 "nbformat": 4,
 "nbformat_minor": 5
}
